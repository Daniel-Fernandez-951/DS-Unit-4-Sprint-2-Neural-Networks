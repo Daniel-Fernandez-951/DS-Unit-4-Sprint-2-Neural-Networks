{
 "cells": [
  {
   "cell_type": "markdown",
   "metadata": {
    "colab_type": "text",
    "id": "ObyHCH8HvHSf"
   },
   "source": [
    "<img align=\"left\" src=\"https://lever-client-logos.s3.amazonaws.com/864372b1-534c-480e-acd5-9711f850815c-1524247202159.png\" width=200>\n",
    "<br></br>\n",
    "<br></br>\n",
    "\n",
    "# *Data Science Unit 4 Sprint 2 Assignment 1*\n",
    "\n",
    "Use TensorFlow Keras & a sample of the [Quickdraw dataset](https://github.com/googlecreativelab/quickdraw-dataset) to build a sketch classification model. The dataset has been sampled to only 10 classes and 10000 observations per class. Please build a baseline classification model then run a few experiments with different optimizers and learning rates. \n",
    "\n",
    "*Don't forgot to switch to GPU on Colab!*"
   ]
  },
  {
   "cell_type": "markdown",
   "metadata": {
    "colab_type": "text",
    "id": "s-Tc3ovEyQ9b"
   },
   "source": [
    "## Load Your Data"
   ]
  },
  {
   "cell_type": "code",
   "execution_count": 1,
   "metadata": {
    "colab": {},
    "colab_type": "code",
    "id": "CkU0pAYCvU8o"
   },
   "outputs": [
    {
     "name": "stdout",
     "output_type": "stream",
     "text": [
      "(100000, 784)\n",
      "(100000,)\n"
     ]
    }
   ],
   "source": [
    "from sklearn.model_selection import train_test_split\n",
    "import numpy as np\n",
    "import tensorflow as tf \n",
    "\n",
    "data = np.load('../quickdraw10.npz')\n",
    "X = data['arr_0']\n",
    "y = data['arr_1']\n",
    "\n",
    "print(X.shape)\n",
    "print(y.shape)"
   ]
  },
  {
   "cell_type": "code",
   "execution_count": 2,
   "metadata": {
    "colab": {},
    "colab_type": "code",
    "id": "c8qsDqdqvHDd"
   },
   "outputs": [],
   "source": [
    "class_names = ['apple',\n",
    " 'anvil',\n",
    " 'airplane',\n",
    " 'banana',\n",
    " 'The Eiffel Tower',\n",
    " 'The Mona Lisa',\n",
    " 'The Great Wall of China',\n",
    " 'alarm clock',\n",
    " 'ant',\n",
    " 'asparagus']"
   ]
  },
  {
   "cell_type": "code",
   "execution_count": 3,
   "metadata": {
    "colab": {},
    "colab_type": "code",
    "id": "Owbm1EbxvA5A"
   },
   "outputs": [
    {
     "data": {
      "image/png": "[encoded data removed]",
      "text/plain": [
       "<Figure size 720x360 with 10 Axes>"
      ]
     },
     "metadata": {},
     "output_type": "display_data"
    }
   ],
   "source": [
    "import matplotlib.pyplot as plt\n",
    "plt.figure(figsize=(10,5))\n",
    "start = 0\n",
    "\n",
    "for num, name in enumerate(class_names):\n",
    "    plt.subplot(2,5, num+1)\n",
    "    plt.xticks([])\n",
    "    plt.yticks([])\n",
    "    plt.grid(False)\n",
    "    plt.imshow(X[start].reshape(28,28), cmap=plt.cm.binary)\n",
    "    plt.xlabel(name)\n",
    "    start += 10000\n",
    "plt.show()"
   ]
  },
  {
   "cell_type": "code",
   "execution_count": 4,
   "metadata": {
    "colab": {},
    "colab_type": "code",
    "id": "c97_M1WNvTNY"
   },
   "outputs": [],
   "source": [
    "# Need this line to randomly shuffle both the X & y at the same time.\n",
    "from sklearn.utils import shuffle\n",
    "X, y = shuffle(X, y)"
   ]
  },
  {
   "cell_type": "code",
   "execution_count": 5,
   "metadata": {},
   "outputs": [],
   "source": [
    "data = np.load('../quickdraw10.npz')\n",
    "data.files\n",
    "    \n",
    "def load_quickdraw10(path, x_loc, y_loc, outlier_val=-1):\n",
    "    \"\"\"\n",
    "    Get loaded data and split; returns X_train/test and y train_test\n",
    "    with 40% split.\n",
    "    Normalize data; enter in outlier value or keep default (-1) to \n",
    "    select auto and find X max.\n",
    "    \n",
    "    Input: data path, X and y index label\n",
    "    \n",
    "    :Return: X_train, X_test, y_train, y_test\n",
    "    \"\"\"\n",
    "    X = path[x_loc]\n",
    "    y = path[y_loc]\n",
    "    X_train, X_test, y_train, y_test = train_test_split(X, \n",
    "                                                        y, \n",
    "                                                        test_size = 0.4,\n",
    "                                                        random_state=445642)\n",
    "    # Read or find outlier, -1 is auto, else inputed value used.\n",
    "    if outlier_val == -1:\n",
    "        outlier_val = X.max()\n",
    "    else:\n",
    "        outlier_val = outlier_val\n",
    "    \n",
    "    # Normalize X_test/train by outlier value\n",
    "    X_train, X_test = X_train.astype('float32') / outlier_val, X_test.astype('float32') / outlier_val\n",
    "    \n",
    "    # Print info\n",
    "    print(f'X shape = {X.shape}\\n'\n",
    "          f'y shape = {y.shape}\\n'\n",
    "          f'X (max, min) = ({X.max()}, {X.min()})\\n'\n",
    "          f'X (train.shape, test.shape) = [ {X_train.shape}, {X_test.shape} ]\\n\\n'\n",
    "          f'y Unique = {len(np.unique(y))}')\n",
    "    \n",
    "    return X_train, y_train, X_test, y_test"
   ]
  },
  {
   "cell_type": "code",
   "execution_count": 6,
   "metadata": {},
   "outputs": [
    {
     "name": "stdout",
     "output_type": "stream",
     "text": [
      "X shape = (100000, 784)\n",
      "y shape = (100000,)\n",
      "X (max, min) = (255, 0)\n",
      "X (train.shape, test.shape) = [ (60000, 784), (40000, 784) ]\n",
      "\n",
      "y Unique = 10\n"
     ]
    }
   ],
   "source": [
    "X_train, y_train, X_test, y_test = load_quickdraw10(path=data,\n",
    "                                                   x_loc='arr_0',\n",
    "                                                   y_loc='arr_1')"
   ]
  },
  {
   "cell_type": "markdown",
   "metadata": {
    "colab_type": "text",
    "id": "jb70CbLVyK65"
   },
   "source": [
    "## Build Your Baseline Model\n",
    "Some Hints:\n",
    "\n",
    "\n",
    "*  Model should have 784 input values (like mnist)\n",
    "*  Use `sparse_categorical_crossentropy` as your loss function.\n",
    "* You need 10 neurons in your last layer for output\n",
    "* You can add as many hidden layers with as many neurons in them as you like. \n",
    "* Limit your model epochs to 30 each time you fit.\n",
    "* You can use the `validation_split` command to automatically create a training / validation dataset.  Specify a percentage such as .2 in your fit statement. \n",
    "\n"
   ]
  },
  {
   "cell_type": "code",
   "execution_count": 7,
   "metadata": {
    "colab": {},
    "colab_type": "code",
    "id": "zHWblzsMyNkU"
   },
   "outputs": [
    {
     "name": "stdout",
     "output_type": "stream",
     "text": [
      "Epoch 1/5\n",
      "750/750 [==============================] - 1s 1ms/step - loss: 1.8885 - accuracy: 0.3462 - val_loss: 1.1019 - val_accuracy: 0.6725\n",
      "Epoch 2/5\n",
      "750/750 [==============================] - 1s 692us/step - loss: 1.0501 - accuracy: 0.6901 - val_loss: 0.9491 - val_accuracy: 0.7213\n",
      "Epoch 3/5\n",
      "750/750 [==============================] - 1s 682us/step - loss: 0.9259 - accuracy: 0.7281 - val_loss: 0.8946 - val_accuracy: 0.7402\n",
      "Epoch 4/5\n",
      "750/750 [==============================] - 1s 682us/step - loss: 0.8779 - accuracy: 0.7411 - val_loss: 0.8590 - val_accuracy: 0.7542\n",
      "Epoch 5/5\n",
      "750/750 [==============================] - 1s 674us/step - loss: 0.8489 - accuracy: 0.7547 - val_loss: 0.8297 - val_accuracy: 0.7628\n"
     ]
    }
   ],
   "source": [
    "import tensorflow as tf\n",
    "from tensorflow.keras.optimizers import Adam, SGD, Nadam\n",
    "from tensorflow.keras import Sequential\n",
    "from tensorflow.keras.layers import Dense\n",
    "\n",
    "\n",
    "model = Sequential()\n",
    "opt = SGD()\n",
    "# Hidden layer\n",
    "model.add(\n",
    "          Dense(32, activation='relu', input_dim=784))\n",
    "model.add(\n",
    "          Dense(10, activation='softmax'))\n",
    "\n",
    "compiled_model = model.compile(optimizer=opt,\n",
    "                               loss='sparse_categorical_crossentropy',\n",
    "                               metrics=['accuracy'])\n",
    "    \n",
    "results = model.fit(X_train, y_train, batch_size=64, validation_split=0.2, epochs=5)\n"
   ]
  },
  {
   "cell_type": "markdown",
   "metadata": {
    "colab_type": "text",
    "id": "b0QJURWh-9uv"
   },
   "source": [
    "### Visualize the results\n",
    "\n",
    "Create charts for both loss and accuracy by epoch. Use line graphs for both charts. Analyze the results. \n",
    "\n",
    "At what point should we have stopped training the model and why? "
   ]
  },
  {
   "cell_type": "code",
   "execution_count": 8,
   "metadata": {
    "colab": {},
    "colab_type": "code",
    "id": "KONJtU5wqlXf"
   },
   "outputs": [
    {
     "data": {
      "text/plain": [
       "{'loss': [1.5301622152328491,\n",
       "  1.009989619255066,\n",
       "  0.916134774684906,\n",
       "  0.8693663477897644,\n",
       "  0.8363455533981323],\n",
       " 'accuracy': [0.5093749761581421,\n",
       "  0.7016249895095825,\n",
       "  0.7301250100135803,\n",
       "  0.7452916502952576,\n",
       "  0.7578125],\n",
       " 'val_loss': [1.1019219160079956,\n",
       "  0.949134349822998,\n",
       "  0.8945546746253967,\n",
       "  0.8589606881141663,\n",
       "  0.8296760320663452],\n",
       " 'val_accuracy': [0.6725000143051147,\n",
       "  0.7213333249092102,\n",
       "  0.7402499914169312,\n",
       "  0.7542499899864197,\n",
       "  0.7627500295639038]}"
      ]
     },
     "execution_count": 8,
     "metadata": {},
     "output_type": "execute_result"
    }
   ],
   "source": [
    "results.history"
   ]
  },
  {
   "cell_type": "code",
   "execution_count": 9,
   "metadata": {
    "colab": {},
    "colab_type": "code",
    "id": "ijAlzfYKAFaY"
   },
   "outputs": [
    {
     "data": {
      "image/png": "[encoded data removed]",
      "text/plain": [
       "<Figure size 432x288 with 1 Axes>"
      ]
     },
     "metadata": {
      "needs_background": "light"
     },
     "output_type": "display_data"
    }
   ],
   "source": [
    "import seaborn as sns\n",
    "import pandas as pd\n",
    "\n",
    "df = pd.DataFrame.from_records(results.history)\n",
    "df['epoch'] = [i for i in range(df.shape[0])]\n",
    "\n",
    "ax = sns.lineplot(x='epoch', y='val_loss', data=df)\n",
    "ax = sns.lineplot(x='epoch', y='loss', data=df);"
   ]
  },
  {
   "cell_type": "markdown",
   "metadata": {
    "colab_type": "text",
    "id": "MAhBrcE4yOZe"
   },
   "source": [
    "## Change Optimizers\n",
    "Try using the keras `adam` optimizer instead of `sgd` in your model. Visualize the difference in validation loss between the models with different optimizers. "
   ]
  },
  {
   "cell_type": "code",
   "execution_count": 10,
   "metadata": {
    "colab": {},
    "colab_type": "code",
    "id": "jIW_spOZ0cxy"
   },
   "outputs": [
    {
     "name": "stdout",
     "output_type": "stream",
     "text": [
      "Epoch 1/5\n",
      "750/750 [==============================] - 1s 886us/step - loss: 1.2005 - accuracy: 0.6281 - val_loss: 0.7685 - val_accuracy: 0.7754\n",
      "Epoch 2/5\n",
      "750/750 [==============================] - 1s 776us/step - loss: 0.7241 - accuracy: 0.7897 - val_loss: 0.6853 - val_accuracy: 0.7996\n",
      "Epoch 3/5\n",
      "750/750 [==============================] - 1s 1ms/step - loss: 0.6560 - accuracy: 0.8104 - val_loss: 0.6567 - val_accuracy: 0.8103\n",
      "Epoch 4/5\n",
      "750/750 [==============================] - 1s 888us/step - loss: 0.6126 - accuracy: 0.8236 - val_loss: 0.6302 - val_accuracy: 0.8132\n",
      "Epoch 5/5\n",
      "750/750 [==============================] - 1s 877us/step - loss: 0.5707 - accuracy: 0.8338 - val_loss: 0.6223 - val_accuracy: 0.8169\n"
     ]
    }
   ],
   "source": [
    "model = Sequential()\n",
    "opt = Adam()\n",
    "# Hidden layer\n",
    "model.add(\n",
    "          Dense(32, activation='relu', input_dim=784))\n",
    "model.add(\n",
    "          Dense(10, activation='softmax'))\n",
    "\n",
    "compiled_model = model.compile(optimizer=opt,\n",
    "                               loss='sparse_categorical_crossentropy',\n",
    "                               metrics=['accuracy'])\n",
    "    \n",
    "results_adam = model.fit(X_train, y_train, batch_size=64, validation_split=0.2, epochs=5)"
   ]
  },
  {
   "cell_type": "code",
   "execution_count": 11,
   "metadata": {},
   "outputs": [
    {
     "data": {
      "image/png": "[encoded data removed]",
      "text/plain": [
       "<Figure size 432x288 with 1 Axes>"
      ]
     },
     "metadata": {
      "needs_background": "light"
     },
     "output_type": "display_data"
    }
   ],
   "source": [
    "df = pd.DataFrame.from_records(results_adam.history)\n",
    "df['epoch'] = [i for i in range(df.shape[0])]\n",
    "\n",
    "ax = sns.lineplot(x='epoch', y='val_loss', data=df)\n",
    "ax = sns.lineplot(x='epoch', y='loss', data=df);"
   ]
  },
  {
   "cell_type": "code",
   "execution_count": 12,
   "metadata": {},
   "outputs": [
    {
     "name": "stdout",
     "output_type": "stream",
     "text": [
      "Epoch 1/5\n",
      "750/750 [==============================] - 1s 1ms/step - loss: 1.1844 - accuracy: 0.6298 - val_loss: 0.7544 - val_accuracy: 0.7878\n",
      "Epoch 2/5\n",
      "750/750 [==============================] - 1s 764us/step - loss: 0.7172 - accuracy: 0.7938 - val_loss: 0.6828 - val_accuracy: 0.8018\n",
      "Epoch 3/5\n",
      "750/750 [==============================] - 1s 779us/step - loss: 0.6450 - accuracy: 0.8128 - val_loss: 0.6463 - val_accuracy: 0.8125\n",
      "Epoch 4/5\n",
      "750/750 [==============================] - 1s 769us/step - loss: 0.5913 - accuracy: 0.8270 - val_loss: 0.6312 - val_accuracy: 0.8156\n",
      "Epoch 5/5\n",
      "750/750 [==============================] - 1s 808us/step - loss: 0.5718 - accuracy: 0.8352 - val_loss: 0.6152 - val_accuracy: 0.8184\n"
     ]
    }
   ],
   "source": [
    "model = Sequential()\n",
    "opt = Nadam()\n",
    "# Hidden layer\n",
    "model.add(\n",
    "          Dense(32, activation='relu', input_dim=784))\n",
    "model.add(\n",
    "          Dense(10, activation='softmax'))\n",
    "\n",
    "compiled_model = model.compile(optimizer=opt,\n",
    "                               loss='sparse_categorical_crossentropy',\n",
    "                               metrics=['accuracy'])\n",
    "    \n",
    "results_nadam = model.fit(X_train, y_train, batch_size=64, validation_split=0.2, epochs=5)"
   ]
  },
  {
   "cell_type": "code",
   "execution_count": 13,
   "metadata": {},
   "outputs": [
    {
     "data": {
      "image/png": "[encoded data removed]",
      "text/plain": [
       "<Figure size 432x288 with 1 Axes>"
      ]
     },
     "metadata": {
      "needs_background": "light"
     },
     "output_type": "display_data"
    }
   ],
   "source": [
    "df = pd.DataFrame.from_records(results_nadam.history)\n",
    "df['epoch'] = [i for i in range(df.shape[0])]\n",
    "\n",
    "ax = sns.lineplot(x='epoch', y='val_loss', data=df)\n",
    "ax = sns.lineplot(x='epoch', y='loss', data=df);"
   ]
  },
  {
   "cell_type": "markdown",
   "metadata": {
    "colab_type": "text",
    "id": "EJrbh3qryi4w"
   },
   "source": [
    "### Additional Written Tasks:\n",
    "In this section, you will need to search for resources: \n",
    "1. Investigate the various [loss functions](https://www.tensorflow.org/api_docs/python/tf/keras/losses). Which is best suited for the task at hand (predicting 1 / 0) and why?\n",
    "    - In binary classifications, picking a loss function that has non-zero derivitives [[1]](https://stats.stackexchange.com/questions/222585/what-are-the-impacts-of-choosing-different-loss-functions-in-classification-to-a) From the list in the loss function list above, I would use BinaryCrossentroy.\n",
    "\n",
    "\n",
    "2. What is the difference between a loss function and a metric? Why might we need both in Keras? \n",
    "    - When compiling a model, the loss function is passed in to optimize the model while training. Like loss function, metric is also passed in at compilation and is a list of parameters used for judging model performance.\n",
    "\n",
    "\n",
    "3. Investigate the various [optimizers](https://www.tensorflow.org/api_docs/python/tf/keras/optimizers). Stochastic Gradient Descent (`sgd`) is not the learning algorithm dejour anyone. Why is that? What do newer optimizers such as `adam` have to offer?\n",
    "    - SGD is a better generalizer than Adam, RMSprop and AdaGrad. Adam/Nadam have the lowest training error/loss but not value error/loss[[2]](https://shaoanlu.wordpress.com/2017/05/29/sgd-all-which-one-is-the-best-optimizer-dogs-vs-cats-toy-experiment/). SGD has been improved from base SGD providing better results."
   ]
  },
  {
   "cell_type": "markdown",
   "metadata": {
    "colab_type": "text",
    "id": "Gzs4fd-RynDd"
   },
   "source": [
    "## Stretch Goals: \n",
    "\n",
    "- Research convolutional neural networks and try including convolution layers in your network.\n",
    "- Pick two classes and make QuickDraw a binary classification problem, how does your model architecture change?\n",
    "- Implement Cross Validation model evaluation on your Quickdraw implementation \n",
    "\n",
    "Watch some more videos on Gradient Descent:\n",
    "- [Gradient Descent, Step-by-Step](https://www.youtube.com/watch?v=sDv4f4s2SB8)  by StatQuest w/ Josh Starmer. This will help you understand the gradient descent based optimization that happens underneath the hood of neural networks. It uses a non-neural network example, which I believe is a gentler introduction. You will hear me refer to this technique as \"vanilla\" gradient descent. \n",
    "- [Stochastic Gradient Descent, Clearly Explained!!!](https://www.youtube.com/watch?v=vMh0zPT0tLI) by StatQuest w/ Josh Starmer. This builds on the techniques in the previous video.  This technique is the one that is actually implemented inside modern 'nets. \n",
    "- [Siraj Raval the evolution of gradient descent](https://www.youtube.com/watch?v=nhqo0u1a6fw)"
   ]
  }
 ],
 "metadata": {
  "accelerator": "GPU",
  "colab": {
   "collapsed_sections": [],
   "name": "LS_DS_432_TensorFlow_Assignment",
   "provenance": []
  },
  "kernelspec": {
   "display_name": "Python 3",
   "language": "python",
   "name": "python3"
  },
  "language_info": {
   "codemirror_mode": {
    "name": "ipython",
    "version": 3
   },
   "file_extension": ".py",
   "mimetype": "text/x-python",
   "name": "python",
   "nbconvert_exporter": "python",
   "pygments_lexer": "ipython3",
   "version": "3.8.3"
  }
 },
 "nbformat": 4,
 "nbformat_minor": 1
}